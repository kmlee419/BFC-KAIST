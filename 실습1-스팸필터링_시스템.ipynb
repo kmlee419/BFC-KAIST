{
 "cells": [
  {
   "cell_type": "markdown",
   "metadata": {
    "id": "5Xu7NNX2RG0q"
   },
   "source": [
    "# 실습1 - Building spam filtering system"
   ]
  },
  {
   "cell_type": "code",
   "execution_count": null,
   "metadata": {
    "id": "Fl0qa5reRG0t"
   },
   "outputs": [],
   "source": [
    "import pandas as pd\n",
    "import numpy as np\n",
    "import matplotlib.pyplot as plt\n",
    "import seaborn as sns\n",
    "import sklearn\n",
    "\n",
    "%matplotlib inline"
   ]
  },
  {
   "cell_type": "markdown",
   "metadata": {
    "id": "-CF1wk86RG0t"
   },
   "source": [
    "## Data\n",
    "\n",
    "* In this lecture, we use the SMS Spam Collection Data Set from UCI Machine Learning Repository (https://archive.ics.uci.edu/ml/datasets/SMS+Spam+Collection). \n",
    "    * A collection of 425 SMS spam messages was manually extracted from the Grumbletext Web site.\n",
    "    * A subset of 3,375 SMS randomly chosen ham messages of the NUS SMS Corpus (NSC), which is a dataset of about 10,000 legitimate messages collected for research at the Department of Computer Science at the National University of Singapore."
   ]
  },
  {
   "cell_type": "code",
   "execution_count": null,
   "metadata": {
    "colab": {
     "base_uri": "https://localhost:8080/",
     "height": 73,
     "resources": {
      "http://localhost:8080/nbextensions/google.colab/files.js": {
       "data": "Ly8gQ29weXJpZ2h0IDIwMTcgR29vZ2xlIExMQwovLwovLyBMaWNlbnNlZCB1bmRlciB0aGUgQXBhY2hlIExpY2Vuc2UsIFZlcnNpb24gMi4wICh0aGUgIkxpY2Vuc2UiKTsKLy8geW91IG1heSBub3QgdXNlIHRoaXMgZmlsZSBleGNlcHQgaW4gY29tcGxpYW5jZSB3aXRoIHRoZSBMaWNlbnNlLgovLyBZb3UgbWF5IG9idGFpbiBhIGNvcHkgb2YgdGhlIExpY2Vuc2UgYXQKLy8KLy8gICAgICBodHRwOi8vd3d3LmFwYWNoZS5vcmcvbGljZW5zZXMvTElDRU5TRS0yLjAKLy8KLy8gVW5sZXNzIHJlcXVpcmVkIGJ5IGFwcGxpY2FibGUgbGF3IG9yIGFncmVlZCB0byBpbiB3cml0aW5nLCBzb2Z0d2FyZQovLyBkaXN0cmlidXRlZCB1bmRlciB0aGUgTGljZW5zZSBpcyBkaXN0cmlidXRlZCBvbiBhbiAiQVMgSVMiIEJBU0lTLAovLyBXSVRIT1VUIFdBUlJBTlRJRVMgT1IgQ09ORElUSU9OUyBPRiBBTlkgS0lORCwgZWl0aGVyIGV4cHJlc3Mgb3IgaW1wbGllZC4KLy8gU2VlIHRoZSBMaWNlbnNlIGZvciB0aGUgc3BlY2lmaWMgbGFuZ3VhZ2UgZ292ZXJuaW5nIHBlcm1pc3Npb25zIGFuZAovLyBsaW1pdGF0aW9ucyB1bmRlciB0aGUgTGljZW5zZS4KCi8qKgogKiBAZmlsZW92ZXJ2aWV3IEhlbHBlcnMgZm9yIGdvb2dsZS5jb2xhYiBQeXRob24gbW9kdWxlLgogKi8KKGZ1bmN0aW9uKHNjb3BlKSB7CmZ1bmN0aW9uIHNwYW4odGV4dCwgc3R5bGVBdHRyaWJ1dGVzID0ge30pIHsKICBjb25zdCBlbGVtZW50ID0gZG9jdW1lbnQuY3JlYXRlRWxlbWVudCgnc3BhbicpOwogIGVsZW1lbnQudGV4dENvbnRlbnQgPSB0ZXh0OwogIGZvciAoY29uc3Qga2V5IG9mIE9iamVjdC5rZXlzKHN0eWxlQXR0cmlidXRlcykpIHsKICAgIGVsZW1lbnQuc3R5bGVba2V5XSA9IHN0eWxlQXR0cmlidXRlc1trZXldOwogIH0KICByZXR1cm4gZWxlbWVudDsKfQoKLy8gTWF4IG51bWJlciBvZiBieXRlcyB3aGljaCB3aWxsIGJlIHVwbG9hZGVkIGF0IGEgdGltZS4KY29uc3QgTUFYX1BBWUxPQURfU0laRSA9IDEwMCAqIDEwMjQ7CgpmdW5jdGlvbiBfdXBsb2FkRmlsZXMoaW5wdXRJZCwgb3V0cHV0SWQpIHsKICBjb25zdCBzdGVwcyA9IHVwbG9hZEZpbGVzU3RlcChpbnB1dElkLCBvdXRwdXRJZCk7CiAgY29uc3Qgb3V0cHV0RWxlbWVudCA9IGRvY3VtZW50LmdldEVsZW1lbnRCeUlkKG91dHB1dElkKTsKICAvLyBDYWNoZSBzdGVwcyBvbiB0aGUgb3V0cHV0RWxlbWVudCB0byBtYWtlIGl0IGF2YWlsYWJsZSBmb3IgdGhlIG5leHQgY2FsbAogIC8vIHRvIHVwbG9hZEZpbGVzQ29udGludWUgZnJvbSBQeXRob24uCiAgb3V0cHV0RWxlbWVudC5zdGVwcyA9IHN0ZXBzOwoKICByZXR1cm4gX3VwbG9hZEZpbGVzQ29udGludWUob3V0cHV0SWQpOwp9CgovLyBUaGlzIGlzIHJvdWdobHkgYW4gYXN5bmMgZ2VuZXJhdG9yIChub3Qgc3VwcG9ydGVkIGluIHRoZSBicm93c2VyIHlldCksCi8vIHdoZXJlIHRoZXJlIGFyZSBtdWx0aXBsZSBhc3luY2hyb25vdXMgc3RlcHMgYW5kIHRoZSBQeXRob24gc2lkZSBpcyBnb2luZwovLyB0byBwb2xsIGZvciBjb21wbGV0aW9uIG9mIGVhY2ggc3RlcC4KLy8gVGhpcyB1c2VzIGEgUHJvbWlzZSB0byBibG9jayB0aGUgcHl0aG9uIHNpZGUgb24gY29tcGxldGlvbiBvZiBlYWNoIHN0ZXAsCi8vIHRoZW4gcGFzc2VzIHRoZSByZXN1bHQgb2YgdGhlIHByZXZpb3VzIHN0ZXAgYXMgdGhlIGlucHV0IHRvIHRoZSBuZXh0IHN0ZXAuCmZ1bmN0aW9uIF91cGxvYWRGaWxlc0NvbnRpbnVlKG91dHB1dElkKSB7CiAgY29uc3Qgb3V0cHV0RWxlbWVudCA9IGRvY3VtZW50LmdldEVsZW1lbnRCeUlkKG91dHB1dElkKTsKICBjb25zdCBzdGVwcyA9IG91dHB1dEVsZW1lbnQuc3RlcHM7CgogIGNvbnN0IG5leHQgPSBzdGVwcy5uZXh0KG91dHB1dEVsZW1lbnQubGFzdFByb21pc2VWYWx1ZSk7CiAgcmV0dXJuIFByb21pc2UucmVzb2x2ZShuZXh0LnZhbHVlLnByb21pc2UpLnRoZW4oKHZhbHVlKSA9PiB7CiAgICAvLyBDYWNoZSB0aGUgbGFzdCBwcm9taXNlIHZhbHVlIHRvIG1ha2UgaXQgYXZhaWxhYmxlIHRvIHRoZSBuZXh0CiAgICAvLyBzdGVwIG9mIHRoZSBnZW5lcmF0b3IuCiAgICBvdXRwdXRFbGVtZW50Lmxhc3RQcm9taXNlVmFsdWUgPSB2YWx1ZTsKICAgIHJldHVybiBuZXh0LnZhbHVlLnJlc3BvbnNlOwogIH0pOwp9CgovKioKICogR2VuZXJhdG9yIGZ1bmN0aW9uIHdoaWNoIGlzIGNhbGxlZCBiZXR3ZWVuIGVhY2ggYXN5bmMgc3RlcCBvZiB0aGUgdXBsb2FkCiAqIHByb2Nlc3MuCiAqIEBwYXJhbSB7c3RyaW5nfSBpbnB1dElkIEVsZW1lbnQgSUQgb2YgdGhlIGlucHV0IGZpbGUgcGlja2VyIGVsZW1lbnQuCiAqIEBwYXJhbSB7c3RyaW5nfSBvdXRwdXRJZCBFbGVtZW50IElEIG9mIHRoZSBvdXRwdXQgZGlzcGxheS4KICogQHJldHVybiB7IUl0ZXJhYmxlPCFPYmplY3Q+fSBJdGVyYWJsZSBvZiBuZXh0IHN0ZXBzLgogKi8KZnVuY3Rpb24qIHVwbG9hZEZpbGVzU3RlcChpbnB1dElkLCBvdXRwdXRJZCkgewogIGNvbnN0IGlucHV0RWxlbWVudCA9IGRvY3VtZW50LmdldEVsZW1lbnRCeUlkKGlucHV0SWQpOwogIGlucHV0RWxlbWVudC5kaXNhYmxlZCA9IGZhbHNlOwoKICBjb25zdCBvdXRwdXRFbGVtZW50ID0gZG9jdW1lbnQuZ2V0RWxlbWVudEJ5SWQob3V0cHV0SWQpOwogIG91dHB1dEVsZW1lbnQuaW5uZXJIVE1MID0gJyc7CgogIGNvbnN0IHBpY2tlZFByb21pc2UgPSBuZXcgUHJvbWlzZSgocmVzb2x2ZSkgPT4gewogICAgaW5wdXRFbGVtZW50LmFkZEV2ZW50TGlzdGVuZXIoJ2NoYW5nZScsIChlKSA9PiB7CiAgICAgIHJlc29sdmUoZS50YXJnZXQuZmlsZXMpOwogICAgfSk7CiAgfSk7CgogIGNvbnN0IGNhbmNlbCA9IGRvY3VtZW50LmNyZWF0ZUVsZW1lbnQoJ2J1dHRvbicpOwogIGlucHV0RWxlbWVudC5wYXJlbnRFbGVtZW50LmFwcGVuZENoaWxkKGNhbmNlbCk7CiAgY2FuY2VsLnRleHRDb250ZW50ID0gJ0NhbmNlbCB1cGxvYWQnOwogIGNvbnN0IGNhbmNlbFByb21pc2UgPSBuZXcgUHJvbWlzZSgocmVzb2x2ZSkgPT4gewogICAgY2FuY2VsLm9uY2xpY2sgPSAoKSA9PiB7CiAgICAgIHJlc29sdmUobnVsbCk7CiAgICB9OwogIH0pOwoKICAvLyBXYWl0IGZvciB0aGUgdXNlciB0byBwaWNrIHRoZSBmaWxlcy4KICBjb25zdCBmaWxlcyA9IHlpZWxkIHsKICAgIHByb21pc2U6IFByb21pc2UucmFjZShbcGlja2VkUHJvbWlzZSwgY2FuY2VsUHJvbWlzZV0pLAogICAgcmVzcG9uc2U6IHsKICAgICAgYWN0aW9uOiAnc3RhcnRpbmcnLAogICAgfQogIH07CgogIGNhbmNlbC5yZW1vdmUoKTsKCiAgLy8gRGlzYWJsZSB0aGUgaW5wdXQgZWxlbWVudCBzaW5jZSBmdXJ0aGVyIHBpY2tzIGFyZSBub3QgYWxsb3dlZC4KICBpbnB1dEVsZW1lbnQuZGlzYWJsZWQgPSB0cnVlOwoKICBpZiAoIWZpbGVzKSB7CiAgICByZXR1cm4gewogICAgICByZXNwb25zZTogewogICAgICAgIGFjdGlvbjogJ2NvbXBsZXRlJywKICAgICAgfQogICAgfTsKICB9CgogIGZvciAoY29uc3QgZmlsZSBvZiBmaWxlcykgewogICAgY29uc3QgbGkgPSBkb2N1bWVudC5jcmVhdGVFbGVtZW50KCdsaScpOwogICAgbGkuYXBwZW5kKHNwYW4oZmlsZS5uYW1lLCB7Zm9udFdlaWdodDogJ2JvbGQnfSkpOwogICAgbGkuYXBwZW5kKHNwYW4oCiAgICAgICAgYCgke2ZpbGUudHlwZSB8fCAnbi9hJ30pIC0gJHtmaWxlLnNpemV9IGJ5dGVzLCBgICsKICAgICAgICBgbGFzdCBtb2RpZmllZDogJHsKICAgICAgICAgICAgZmlsZS5sYXN0TW9kaWZpZWREYXRlID8gZmlsZS5sYXN0TW9kaWZpZWREYXRlLnRvTG9jYWxlRGF0ZVN0cmluZygpIDoKICAgICAgICAgICAgICAgICAgICAgICAgICAgICAgICAgICAgJ24vYSd9IC0gYCkpOwogICAgY29uc3QgcGVyY2VudCA9IHNwYW4oJzAlIGRvbmUnKTsKICAgIGxpLmFwcGVuZENoaWxkKHBlcmNlbnQpOwoKICAgIG91dHB1dEVsZW1lbnQuYXBwZW5kQ2hpbGQobGkpOwoKICAgIGNvbnN0IGZpbGVEYXRhUHJvbWlzZSA9IG5ldyBQcm9taXNlKChyZXNvbHZlKSA9PiB7CiAgICAgIGNvbnN0IHJlYWRlciA9IG5ldyBGaWxlUmVhZGVyKCk7CiAgICAgIHJlYWRlci5vbmxvYWQgPSAoZSkgPT4gewogICAgICAgIHJlc29sdmUoZS50YXJnZXQucmVzdWx0KTsKICAgICAgfTsKICAgICAgcmVhZGVyLnJlYWRBc0FycmF5QnVmZmVyKGZpbGUpOwogICAgfSk7CiAgICAvLyBXYWl0IGZvciB0aGUgZGF0YSB0byBiZSByZWFkeS4KICAgIGxldCBmaWxlRGF0YSA9IHlpZWxkIHsKICAgICAgcHJvbWlzZTogZmlsZURhdGFQcm9taXNlLAogICAgICByZXNwb25zZTogewogICAgICAgIGFjdGlvbjogJ2NvbnRpbnVlJywKICAgICAgfQogICAgfTsKCiAgICAvLyBVc2UgYSBjaHVua2VkIHNlbmRpbmcgdG8gYXZvaWQgbWVzc2FnZSBzaXplIGxpbWl0cy4gU2VlIGIvNjIxMTU2NjAuCiAgICBsZXQgcG9zaXRpb24gPSAwOwogICAgZG8gewogICAgICBjb25zdCBsZW5ndGggPSBNYXRoLm1pbihmaWxlRGF0YS5ieXRlTGVuZ3RoIC0gcG9zaXRpb24sIE1BWF9QQVlMT0FEX1NJWkUpOwogICAgICBjb25zdCBjaHVuayA9IG5ldyBVaW50OEFycmF5KGZpbGVEYXRhLCBwb3NpdGlvbiwgbGVuZ3RoKTsKICAgICAgcG9zaXRpb24gKz0gbGVuZ3RoOwoKICAgICAgY29uc3QgYmFzZTY0ID0gYnRvYShTdHJpbmcuZnJvbUNoYXJDb2RlLmFwcGx5KG51bGwsIGNodW5rKSk7CiAgICAgIHlpZWxkIHsKICAgICAgICByZXNwb25zZTogewogICAgICAgICAgYWN0aW9uOiAnYXBwZW5kJywKICAgICAgICAgIGZpbGU6IGZpbGUubmFtZSwKICAgICAgICAgIGRhdGE6IGJhc2U2NCwKICAgICAgICB9LAogICAgICB9OwoKICAgICAgbGV0IHBlcmNlbnREb25lID0gZmlsZURhdGEuYnl0ZUxlbmd0aCA9PT0gMCA/CiAgICAgICAgICAxMDAgOgogICAgICAgICAgTWF0aC5yb3VuZCgocG9zaXRpb24gLyBmaWxlRGF0YS5ieXRlTGVuZ3RoKSAqIDEwMCk7CiAgICAgIHBlcmNlbnQudGV4dENvbnRlbnQgPSBgJHtwZXJjZW50RG9uZX0lIGRvbmVgOwoKICAgIH0gd2hpbGUgKHBvc2l0aW9uIDwgZmlsZURhdGEuYnl0ZUxlbmd0aCk7CiAgfQoKICAvLyBBbGwgZG9uZS4KICB5aWVsZCB7CiAgICByZXNwb25zZTogewogICAgICBhY3Rpb246ICdjb21wbGV0ZScsCiAgICB9CiAgfTsKfQoKc2NvcGUuZ29vZ2xlID0gc2NvcGUuZ29vZ2xlIHx8IHt9OwpzY29wZS5nb29nbGUuY29sYWIgPSBzY29wZS5nb29nbGUuY29sYWIgfHwge307CnNjb3BlLmdvb2dsZS5jb2xhYi5fZmlsZXMgPSB7CiAgX3VwbG9hZEZpbGVzLAogIF91cGxvYWRGaWxlc0NvbnRpbnVlLAp9Owp9KShzZWxmKTsK",
       "headers": [
        [
         "content-type",
         "application/javascript"
        ]
       ],
       "ok": true,
       "status": 200,
       "status_text": ""
      }
     }
    },
    "executionInfo": {
     "elapsed": 12514,
     "status": "ok",
     "timestamp": 1623170615207,
     "user": {
      "displayName": "Lee Kyu-Min",
      "photoUrl": "",
      "userId": "04534845204524302942"
     },
     "user_tz": -540
    },
    "id": "kgMGaZSwRG0u",
    "outputId": "fc1cfd1e-252b-4952-bbcd-794c193a0b5d"
   },
   "outputs": [],
   "source": [
    "import io\n",
    "from google.colab import files\n",
    "uploaded = files.upload()\n",
    "\n",
    "df_sms = pd.read_csv(io.StringIO(uploaded['SMS_Spam.tsv'].decode('utf-8')), sep='\\t')"
   ]
  },
  {
   "cell_type": "code",
   "execution_count": null,
   "metadata": {
    "colab": {
     "base_uri": "https://localhost:8080/",
     "height": 204
    },
    "executionInfo": {
     "elapsed": 10,
     "status": "ok",
     "timestamp": 1623170615891,
     "user": {
      "displayName": "Lee Kyu-Min",
      "photoUrl": "",
      "userId": "04534845204524302942"
     },
     "user_tz": -540
    },
    "id": "YwJ0JcmeRG0u",
    "outputId": "b38e5155-9bcf-4eb1-bd45-fc9752350f06"
   },
   "outputs": [],
   "source": []
  },
  {
   "cell_type": "markdown",
   "metadata": {
    "id": "laL7KrAERG0u"
   },
   "source": [
    "## Exploratory Data Analysis\n",
    "* First, how many messages the data have?"
   ]
  },
  {
   "cell_type": "code",
   "execution_count": null,
   "metadata": {
    "colab": {
     "base_uri": "https://localhost:8080/"
    },
    "executionInfo": {
     "elapsed": 289,
     "status": "ok",
     "timestamp": 1623170622709,
     "user": {
      "displayName": "Lee Kyu-Min",
      "photoUrl": "",
      "userId": "04534845204524302942"
     },
     "user_tz": -540
    },
    "id": "Wc66R47pRG0u",
    "outputId": "08dc86b5-57c5-439d-f4f9-44be61ba7154"
   },
   "outputs": [],
   "source": [
    "len(df_sms)"
   ]
  },
  {
   "cell_type": "markdown",
   "metadata": {
    "id": "x-5lUYgFRG0v"
   },
   "source": [
    "* Then, now, how many spams and hams each other?"
   ]
  },
  {
   "cell_type": "code",
   "execution_count": null,
   "metadata": {
    "colab": {
     "base_uri": "https://localhost:8080/"
    },
    "executionInfo": {
     "elapsed": 5,
     "status": "ok",
     "timestamp": 1623170623673,
     "user": {
      "displayName": "Lee Kyu-Min",
      "photoUrl": "",
      "userId": "04534845204524302942"
     },
     "user_tz": -540
    },
    "id": "QaRZaS5kRG0v",
    "outputId": "da0ecb13-444e-479c-b329-6389494fd912"
   },
   "outputs": [],
   "source": [
    "df_sms['label'].value_counts()"
   ]
  },
  {
   "cell_type": "markdown",
   "metadata": {
    "id": "cbQjyrPQRG0v"
   },
   "source": [
    "* Now, let's apply lengths of each message and create a new column."
   ]
  },
  {
   "cell_type": "code",
   "execution_count": null,
   "metadata": {
    "id": "XzKWGx5MRG0w"
   },
   "outputs": [],
   "source": [
    "df_sms['length'] = df_sms['message'].apply(len)"
   ]
  },
  {
   "cell_type": "code",
   "execution_count": null,
   "metadata": {
    "colab": {
     "base_uri": "https://localhost:8080/",
     "height": 204
    },
    "executionInfo": {
     "elapsed": 7,
     "status": "ok",
     "timestamp": 1623170625281,
     "user": {
      "displayName": "Lee Kyu-Min",
      "photoUrl": "",
      "userId": "04534845204524302942"
     },
     "user_tz": -540
    },
    "id": "LuwxJgs0RG0w",
    "outputId": "a018eb7d-d71e-4b5d-9ed0-29e36b58507b"
   },
   "outputs": [],
   "source": [
    "df_sms.head()"
   ]
  },
  {
   "cell_type": "markdown",
   "metadata": {
    "id": "9EYfZIrwRG0w"
   },
   "source": [
    "* How are the lengths of messages distributed?"
   ]
  },
  {
   "cell_type": "code",
   "execution_count": null,
   "metadata": {
    "colab": {
     "base_uri": "https://localhost:8080/",
     "height": 333
    },
    "executionInfo": {
     "elapsed": 366,
     "status": "ok",
     "timestamp": 1623170627272,
     "user": {
      "displayName": "Lee Kyu-Min",
      "photoUrl": "",
      "userId": "04534845204524302942"
     },
     "user_tz": -540
    },
    "id": "aXjFpHHeRG0w",
    "outputId": "958154b4-6ded-4728-bb9b-b725fc3cb8db"
   },
   "outputs": [],
   "source": [
    "sns.distplot(df_sms['length'])\n",
    "plt.show()"
   ]
  },
  {
   "cell_type": "markdown",
   "metadata": {
    "id": "L2OMc0irRG0w"
   },
   "source": [
    "* Are there any differences of the distribution of spam and ham messages?"
   ]
  },
  {
   "cell_type": "code",
   "execution_count": null,
   "metadata": {
    "id": "nSljWlTsRG0x"
   },
   "outputs": [],
   "source": [
    "df_spam = df_sms[df_sms['label']=='spam'].reset_index(drop=True)\n",
    "df_ham = df_sms[df_sms['label']=='ham'].reset_index(drop=True)"
   ]
  },
  {
   "cell_type": "code",
   "execution_count": null,
   "metadata": {
    "colab": {
     "base_uri": "https://localhost:8080/",
     "height": 694
    },
    "executionInfo": {
     "elapsed": 968,
     "status": "ok",
     "timestamp": 1623170630429,
     "user": {
      "displayName": "Lee Kyu-Min",
      "photoUrl": "",
      "userId": "04534845204524302942"
     },
     "user_tz": -540
    },
    "id": "HlhKL9E2RG0x",
    "outputId": "3867389f-b158-4b6c-df9d-a1b95c299e6c"
   },
   "outputs": [],
   "source": [
    "plt.figure(figsize=(15,10))\n",
    "\n",
    "sns.distplot(df_spam['length'], color='red')\n",
    "sns.distplot(df_ham['length'], color='blue')\n",
    "plt.legend(labels=['spam','ham'])\n",
    "plt.show()"
   ]
  },
  {
   "cell_type": "markdown",
   "metadata": {
    "id": "V01A1LrHRG0x"
   },
   "source": [
    "* What are the shortest and longest messgaes?"
   ]
  },
  {
   "cell_type": "code",
   "execution_count": null,
   "metadata": {
    "id": "E4m1AkNuRG0x"
   },
   "outputs": [],
   "source": [
    "sns_sorted = df_sms.sort_values(by='length').reset_index()"
   ]
  },
  {
   "cell_type": "code",
   "execution_count": null,
   "metadata": {
    "colab": {
     "base_uri": "https://localhost:8080/",
     "height": 103
    },
    "executionInfo": {
     "elapsed": 6,
     "status": "ok",
     "timestamp": 1623170632639,
     "user": {
      "displayName": "Lee Kyu-Min",
      "photoUrl": "",
      "userId": "04534845204524302942"
     },
     "user_tz": -540
    },
    "id": "D4aV1fYSRG0x",
    "outputId": "f67f5c8f-c5ea-40b8-a019-fbc4f3057d7a"
   },
   "outputs": [],
   "source": [
    "sns_sorted.loc[5571]['message']"
   ]
  },
  {
   "cell_type": "markdown",
   "metadata": {
    "id": "c6KI2MpyRG0y"
   },
   "source": [
    "## Text preprocessing\n",
    "* For analyzing texts, we need to split each message into individual words.\n",
    "* Let's remove punctuations first.\n",
    "    * Python's built-in library **string** would provide a quick and convenient way of removing them."
   ]
  },
  {
   "cell_type": "code",
   "execution_count": null,
   "metadata": {
    "colab": {
     "base_uri": "https://localhost:8080/",
     "height": 35
    },
    "executionInfo": {
     "elapsed": 7,
     "status": "ok",
     "timestamp": 1623170634058,
     "user": {
      "displayName": "Lee Kyu-Min",
      "photoUrl": "",
      "userId": "04534845204524302942"
     },
     "user_tz": -540
    },
    "id": "qQcEgqj6RG0y",
    "outputId": "a3ed3956-eda6-4aed-fc3f-259a19544fc6"
   },
   "outputs": [],
   "source": [
    "import string\n",
    "\n",
    "string.punctuation"
   ]
  },
  {
   "cell_type": "markdown",
   "metadata": {
    "id": "bcFuclXrRG0y"
   },
   "source": [
    "* Check characters whether they are punctuations or not."
   ]
  },
  {
   "cell_type": "code",
   "execution_count": null,
   "metadata": {
    "id": "GGo0kW7rRG0y"
   },
   "outputs": [],
   "source": [
    "sample = \"Hello! This is Finance - IT Convergence AI - DX Course.\""
   ]
  },
  {
   "cell_type": "code",
   "execution_count": null,
   "metadata": {
    "id": "esVYIOoeRG0y"
   },
   "outputs": [],
   "source": [
    "sample_nopunc = []\n",
    "for char in sample:\n",
    "    if char not in string.punctuation:\n",
    "        sample_nopunc.append(char)"
   ]
  },
  {
   "cell_type": "code",
   "execution_count": null,
   "metadata": {
    "id": "3-8Q-isxRG0z"
   },
   "outputs": [],
   "source": [
    "sample_nopunc = \"\".join(sample_nopunc)"
   ]
  },
  {
   "cell_type": "code",
   "execution_count": null,
   "metadata": {
    "colab": {
     "base_uri": "https://localhost:8080/",
     "height": 35
    },
    "executionInfo": {
     "elapsed": 6,
     "status": "ok",
     "timestamp": 1623170636348,
     "user": {
      "displayName": "Lee Kyu-Min",
      "photoUrl": "",
      "userId": "04534845204524302942"
     },
     "user_tz": -540
    },
    "id": "HDAkpiD-RG0z",
    "outputId": "9a64c08e-c186-4da2-b07e-7b25cca371b8"
   },
   "outputs": [],
   "source": [
    "sample_nopunc"
   ]
  },
  {
   "cell_type": "markdown",
   "metadata": {
    "id": "APPAf5fORG0z"
   },
   "source": [
    "* Now, it's a step to remove stopwords. The NLTK library is a kind of stardard library for processing texts in Python (https://www.nltk.org/).\n",
    "* The NLTK library provide a list of stopwords."
   ]
  },
  {
   "cell_type": "code",
   "execution_count": null,
   "metadata": {
    "id": "mlx4_z_ORG0z"
   },
   "outputs": [],
   "source": [
    "import nltk\n",
    "from nltk.corpus import stopwords"
   ]
  },
  {
   "cell_type": "markdown",
   "metadata": {
    "id": "JdhGXfszRG0z"
   },
   "source": [
    "* We can specify a language for stopwords list."
   ]
  },
  {
   "cell_type": "code",
   "execution_count": null,
   "metadata": {
    "colab": {
     "base_uri": "https://localhost:8080/"
    },
    "executionInfo": {
     "elapsed": 575,
     "status": "ok",
     "timestamp": 1623170638264,
     "user": {
      "displayName": "Lee Kyu-Min",
      "photoUrl": "",
      "userId": "04534845204524302942"
     },
     "user_tz": -540
    },
    "id": "9Tw5BeBKRG0z",
    "outputId": "0204637c-2e5b-41b2-c3e2-2099acd06a11"
   },
   "outputs": [],
   "source": [
    "nltk.download('stopwords')"
   ]
  },
  {
   "cell_type": "code",
   "execution_count": null,
   "metadata": {
    "colab": {
     "base_uri": "https://localhost:8080/"
    },
    "executionInfo": {
     "elapsed": 16,
     "status": "ok",
     "timestamp": 1623170638265,
     "user": {
      "displayName": "Lee Kyu-Min",
      "photoUrl": "",
      "userId": "04534845204524302942"
     },
     "user_tz": -540
    },
    "id": "0A6OrNIgRG00",
    "outputId": "1e747880-8e88-4230-c9e5-a6582563adad"
   },
   "outputs": [],
   "source": [
    "stopwords.words('english')"
   ]
  },
  {
   "cell_type": "markdown",
   "metadata": {
    "id": "MN9rd4XhRG00"
   },
   "source": [
    "* Split the message and remove stopwords according to the list."
   ]
  },
  {
   "cell_type": "code",
   "execution_count": null,
   "metadata": {
    "colab": {
     "base_uri": "https://localhost:8080/",
     "height": 35
    },
    "executionInfo": {
     "elapsed": 314,
     "status": "ok",
     "timestamp": 1623170645249,
     "user": {
      "displayName": "Lee Kyu-Min",
      "photoUrl": "",
      "userId": "04534845204524302942"
     },
     "user_tz": -540
    },
    "id": "L2o-k-5gRG00",
    "outputId": "df67748a-5a2c-44b4-fd6b-93463ab81427"
   },
   "outputs": [],
   "source": [
    "sample_nopunc"
   ]
  },
  {
   "cell_type": "code",
   "execution_count": null,
   "metadata": {
    "colab": {
     "base_uri": "https://localhost:8080/"
    },
    "executionInfo": {
     "elapsed": 4,
     "status": "ok",
     "timestamp": 1623170645559,
     "user": {
      "displayName": "Lee Kyu-Min",
      "photoUrl": "",
      "userId": "04534845204524302942"
     },
     "user_tz": -540
    },
    "id": "rAdmAQpZRG00",
    "outputId": "6def986f-02e3-4b23-9a4d-0c8a7796d7d5"
   },
   "outputs": [],
   "source": [
    "sample_nopunc.split()"
   ]
  },
  {
   "cell_type": "code",
   "execution_count": null,
   "metadata": {
    "id": "LYA42EySRG00"
   },
   "outputs": [],
   "source": [
    "remove_stopwords = []\n",
    "for word in sample_nopunc.split():\n",
    "    if word.lower() not in stopwords.words('english'):\n",
    "        remove_stopwords.append(word)"
   ]
  },
  {
   "cell_type": "code",
   "execution_count": null,
   "metadata": {
    "colab": {
     "base_uri": "https://localhost:8080/"
    },
    "executionInfo": {
     "elapsed": 262,
     "status": "ok",
     "timestamp": 1623170646840,
     "user": {
      "displayName": "Lee Kyu-Min",
      "photoUrl": "",
      "userId": "04534845204524302942"
     },
     "user_tz": -540
    },
    "id": "jncJZ8_vRG00",
    "outputId": "deb19c08-2c7d-47b2-9632-478d69dbbbbc"
   },
   "outputs": [],
   "source": [
    "remove_stopwords"
   ]
  },
  {
   "cell_type": "markdown",
   "metadata": {
    "id": "t_X0R3g9RG00"
   },
   "source": [
    "* When you make a function for this, it would be more useful to apply it later."
   ]
  },
  {
   "cell_type": "code",
   "execution_count": null,
   "metadata": {
    "id": "Qp9XWq6_RG01"
   },
   "outputs": [],
   "source": [
    "def preprocessing(text):\n",
    "    \n",
    "    # remove punctuation\n",
    "    nopunc = []\n",
    "    for char in text:\n",
    "        if char not in string.punctuation:\n",
    "            nopunc.append(char)\n",
    "            \n",
    "    nopunc = \"\".join(nopunc)\n",
    "    \n",
    "    # remove stopwords\n",
    "    remove_stop = []\n",
    "    for word in nopunc.split():\n",
    "        if word.lower() not in stopwords.words('english'):\n",
    "            remove_stop.append(word)\n",
    "            \n",
    "    # remove words less than three characters\n",
    "    tokens = []\n",
    "    for word in remove_stop:\n",
    "        if len(word) >= 3:\n",
    "            tokens.append(word)\n",
    "            \n",
    "    #tokens = \" \".join(tokens)\n",
    "    \n",
    "    return tokens"
   ]
  },
  {
   "cell_type": "code",
   "execution_count": null,
   "metadata": {
    "colab": {
     "base_uri": "https://localhost:8080/",
     "height": 35
    },
    "executionInfo": {
     "elapsed": 5,
     "status": "ok",
     "timestamp": 1623170648036,
     "user": {
      "displayName": "Lee Kyu-Min",
      "photoUrl": "",
      "userId": "04534845204524302942"
     },
     "user_tz": -540
    },
    "id": "QBAU7cl4RG01",
    "outputId": "66ad2c5c-3c36-45b5-8060-434697d6a4be"
   },
   "outputs": [],
   "source": [
    "sample"
   ]
  },
  {
   "cell_type": "code",
   "execution_count": null,
   "metadata": {
    "colab": {
     "base_uri": "https://localhost:8080/"
    },
    "executionInfo": {
     "elapsed": 3,
     "status": "ok",
     "timestamp": 1623170648308,
     "user": {
      "displayName": "Lee Kyu-Min",
      "photoUrl": "",
      "userId": "04534845204524302942"
     },
     "user_tz": -540
    },
    "id": "EtkaaHV3RG01",
    "outputId": "b4669f76-6906-4061-a35b-247df227b371",
    "scrolled": false
   },
   "outputs": [],
   "source": [
    "preprocessing(sample)"
   ]
  },
  {
   "cell_type": "markdown",
   "metadata": {
    "id": "fl9XOaNsRG01"
   },
   "source": [
    "* You can apply the preprocessing function to whole dataframe."
   ]
  },
  {
   "cell_type": "code",
   "execution_count": null,
   "metadata": {
    "colab": {
     "base_uri": "https://localhost:8080/",
     "height": 204
    },
    "executionInfo": {
     "elapsed": 8,
     "status": "ok",
     "timestamp": 1623170650022,
     "user": {
      "displayName": "Lee Kyu-Min",
      "photoUrl": "",
      "userId": "04534845204524302942"
     },
     "user_tz": -540
    },
    "id": "R1w_3UiFRG01",
    "outputId": "b971c42e-af6f-4a13-f54e-999b2c8b6ca6"
   },
   "outputs": [],
   "source": [
    "df_sms.head()"
   ]
  },
  {
   "cell_type": "code",
   "execution_count": null,
   "metadata": {
    "colab": {
     "base_uri": "https://localhost:8080/"
    },
    "executionInfo": {
     "elapsed": 9594,
     "status": "ok",
     "timestamp": 1623170659611,
     "user": {
      "displayName": "Lee Kyu-Min",
      "photoUrl": "",
      "userId": "04534845204524302942"
     },
     "user_tz": -540
    },
    "id": "tW47o_RURG01",
    "outputId": "3070e3e2-e012-4479-95a2-1822ddce1826"
   },
   "outputs": [],
   "source": [
    "df_sms['message'].apply(preprocessing)"
   ]
  },
  {
   "cell_type": "markdown",
   "metadata": {
    "id": "6r_y2Bk1RG02"
   },
   "source": [
    "## Frequency Analysis"
   ]
  },
  {
   "cell_type": "code",
   "execution_count": null,
   "metadata": {
    "id": "C8SbW1eRRG02"
   },
   "outputs": [],
   "source": [
    "clean_spam = df_spam['message'].apply(preprocessing)\n",
    "clean_ham = df_ham['message'].apply(preprocessing)"
   ]
  },
  {
   "cell_type": "markdown",
   "metadata": {
    "id": "JFBIbHB3RG02"
   },
   "source": [
    "* First, let's merge whole values of each dataframe into one list."
   ]
  },
  {
   "cell_type": "code",
   "execution_count": null,
   "metadata": {
    "id": "2A10qSeDRG02"
   },
   "outputs": [],
   "source": [
    "whole_spam = []\n",
    "for line in clean_spam.tolist():\n",
    "    whole_spam += line\n",
    "    \n",
    "whole_ham = []\n",
    "for line in clean_ham.tolist():\n",
    "    whole_ham += line"
   ]
  },
  {
   "cell_type": "markdown",
   "metadata": {
    "id": "D6nwxQwIRG02"
   },
   "source": [
    "* The **Text** class in **NLTK** library provide some useful methods to text analysis."
   ]
  },
  {
   "cell_type": "code",
   "execution_count": null,
   "metadata": {
    "id": "yFfYICfNRG02"
   },
   "outputs": [],
   "source": [
    "from nltk import Text\n",
    "\n",
    "ham_text = Text(whole_ham)\n",
    "spam_text = Text(whole_spam)"
   ]
  },
  {
   "cell_type": "markdown",
   "metadata": {
    "id": "MRNU2ZcyRG03"
   },
   "source": [
    "* The **vocab** method in the **Text** class can extract the frequency of usage for each token."
   ]
  },
  {
   "cell_type": "code",
   "execution_count": null,
   "metadata": {
    "id": "0kjdvou2RG03"
   },
   "outputs": [],
   "source": [
    "freqDist_ham = ham_text.vocab()"
   ]
  },
  {
   "cell_type": "code",
   "execution_count": null,
   "metadata": {
    "colab": {
     "base_uri": "https://localhost:8080/"
    },
    "executionInfo": {
     "elapsed": 11,
     "status": "ok",
     "timestamp": 1623170669024,
     "user": {
      "displayName": "Lee Kyu-Min",
      "photoUrl": "",
      "userId": "04534845204524302942"
     },
     "user_tz": -540
    },
    "id": "P8mK0V87RG03",
    "outputId": "fd5656fe-9f1c-4823-a2b2-b4a58073d6d8"
   },
   "outputs": [],
   "source": [
    "freqDist_ham"
   ]
  },
  {
   "cell_type": "code",
   "execution_count": null,
   "metadata": {
    "colab": {
     "base_uri": "https://localhost:8080/"
    },
    "executionInfo": {
     "elapsed": 516,
     "status": "ok",
     "timestamp": 1623167416967,
     "user": {
      "displayName": "Lee Kyu-Min",
      "photoUrl": "",
      "userId": "04534845204524302942"
     },
     "user_tz": -540
    },
    "id": "iYImJH23RG03",
    "outputId": "c8643de1-d8a0-44b8-a711-832aa38880cf"
   },
   "outputs": [],
   "source": [
    "freqDist_ham.most_common(10)"
   ]
  },
  {
   "cell_type": "markdown",
   "metadata": {
    "id": "oxlAmLJeRG03"
   },
   "source": [
    "* How about spam messages?"
   ]
  },
  {
   "cell_type": "code",
   "execution_count": null,
   "metadata": {
    "colab": {
     "base_uri": "https://localhost:8080/"
    },
    "executionInfo": {
     "elapsed": 4,
     "status": "ok",
     "timestamp": 1623167419440,
     "user": {
      "displayName": "Lee Kyu-Min",
      "photoUrl": "",
      "userId": "04534845204524302942"
     },
     "user_tz": -540
    },
    "id": "1HP9LradRG03",
    "outputId": "59fc1908-6368-4b67-edb4-8b08739165a2"
   },
   "outputs": [],
   "source": []
  },
  {
   "cell_type": "markdown",
   "metadata": {
    "id": "QqwYTG0sRG03"
   },
   "source": [
    "* You can plot the distribution of each token by the **plot** method."
   ]
  },
  {
   "cell_type": "code",
   "execution_count": null,
   "metadata": {
    "colab": {
     "base_uri": "https://localhost:8080/",
     "height": 515
    },
    "executionInfo": {
     "elapsed": 6,
     "status": "ok",
     "timestamp": 1623167423449,
     "user": {
      "displayName": "Lee Kyu-Min",
      "photoUrl": "",
      "userId": "04534845204524302942"
     },
     "user_tz": -540
    },
    "id": "9-IwLWC5RG03",
    "outputId": "2ef134b9-da44-4ba8-9cba-f798f5fdad6b"
   },
   "outputs": [],
   "source": [
    "plt.figure(figsize=(10,8))\n",
    "\n",
    "ham_text.plot(30)\n",
    "plt.show()"
   ]
  },
  {
   "cell_type": "code",
   "execution_count": null,
   "metadata": {
    "colab": {
     "base_uri": "https://localhost:8080/",
     "height": 534
    },
    "executionInfo": {
     "elapsed": 715,
     "status": "ok",
     "timestamp": 1623167426971,
     "user": {
      "displayName": "Lee Kyu-Min",
      "photoUrl": "",
      "userId": "04534845204524302942"
     },
     "user_tz": -540
    },
    "id": "Bi5WDcDPRG04",
    "outputId": "a41ca704-0011-45a6-99de-388ec2ec0e28"
   },
   "outputs": [],
   "source": []
  },
  {
   "cell_type": "markdown",
   "metadata": {
    "id": "h9duQIscRG04"
   },
   "source": [
    "* We can also use the **wordcloud** package for visualization. \n",
    "* You can download the package by `conda install -c conda-forge wordcloud`"
   ]
  },
  {
   "cell_type": "code",
   "execution_count": null,
   "metadata": {
    "colab": {
     "base_uri": "https://localhost:8080/",
     "height": 533
    },
    "executionInfo": {
     "elapsed": 4378,
     "status": "ok",
     "timestamp": 1623167435144,
     "user": {
      "displayName": "Lee Kyu-Min",
      "photoUrl": "",
      "userId": "04534845204524302942"
     },
     "user_tz": -540
    },
    "id": "HVrbNhMTRG04",
    "outputId": "34184e9c-5047-4d7f-aafa-cf201bb5eb30"
   },
   "outputs": [],
   "source": [
    "from wordcloud import WordCloud\n",
    "\n",
    "plt.figure(figsize=(15,10))\n",
    "\n",
    "wc_ham = WordCloud(width=1000, height=600, background_color=\"black\", random_state=0)\n",
    "plt.imshow(wc_ham.generate_from_frequencies(freqDist_ham))\n",
    "plt.axis(\"off\")\n",
    "plt.show()"
   ]
  },
  {
   "cell_type": "code",
   "execution_count": null,
   "metadata": {
    "colab": {
     "base_uri": "https://localhost:8080/",
     "height": 533
    },
    "executionInfo": {
     "elapsed": 3595,
     "status": "ok",
     "timestamp": 1623167440044,
     "user": {
      "displayName": "Lee Kyu-Min",
      "photoUrl": "",
      "userId": "04534845204524302942"
     },
     "user_tz": -540
    },
    "id": "xIBXddwNRG04",
    "outputId": "5a7b25f6-0e97-4b98-bf6a-e05496c70d0f"
   },
   "outputs": [],
   "source": [
    "plt.figure(figsize=(15,10))\n",
    "\n",
    "wc_spam = WordCloud(width=1000, height=600, background_color=\"black\", random_state=0)\n",
    "plt.imshow(wc_spam.generate_from_frequencies(freqDist_spam))\n",
    "plt.axis(\"off\")\n",
    "plt.show()"
   ]
  },
  {
   "cell_type": "markdown",
   "metadata": {
    "id": "y9-O8F0YRG04"
   },
   "source": [
    "## Building a spam flitering system"
   ]
  },
  {
   "cell_type": "markdown",
   "metadata": {
    "id": "lqrhM8hMRG04"
   },
   "source": [
    "* We have a data with classifying each message according to \"spam\" or \"ham\". \n",
    "    * This means that we can build the spam classifier with machine learning model. \n",
    "* First, we have to specify feature and target, then split our data into train-test set."
   ]
  },
  {
   "cell_type": "code",
   "execution_count": null,
   "metadata": {
    "colab": {
     "base_uri": "https://localhost:8080/",
     "height": 204
    },
    "executionInfo": {
     "elapsed": 523,
     "status": "ok",
     "timestamp": 1623170935140,
     "user": {
      "displayName": "Lee Kyu-Min",
      "photoUrl": "",
      "userId": "04534845204524302942"
     },
     "user_tz": -540
    },
    "id": "QGMK6ZK-RG05",
    "outputId": "8538a1bf-96bb-47d9-a6f9-128cb0d06764"
   },
   "outputs": [],
   "source": [
    "df_sms.head()"
   ]
  },
  {
   "cell_type": "markdown",
   "metadata": {
    "id": "31foEOMIRG05"
   },
   "source": [
    "### Preprocessing data"
   ]
  },
  {
   "cell_type": "code",
   "execution_count": null,
   "metadata": {
    "id": "b7Pw31SMRG05"
   },
   "outputs": [],
   "source": [
    "df_sms['message_clean'] = df_sms['message'].apply(preprocessing)"
   ]
  },
  {
   "cell_type": "code",
   "execution_count": null,
   "metadata": {
    "id": "u3fCESrvRG05"
   },
   "outputs": [],
   "source": [
    "df_sms['message_clean'] = df_sms['message_clean'].apply(', '.join)"
   ]
  },
  {
   "cell_type": "code",
   "execution_count": null,
   "metadata": {
    "colab": {
     "base_uri": "https://localhost:8080/",
     "height": 204
    },
    "executionInfo": {
     "elapsed": 13,
     "status": "ok",
     "timestamp": 1623170945394,
     "user": {
      "displayName": "Lee Kyu-Min",
      "photoUrl": "",
      "userId": "04534845204524302942"
     },
     "user_tz": -540
    },
    "id": "_KheRamrRG05",
    "outputId": "6237c8dd-901b-4bfa-ebe7-1d44629301a4"
   },
   "outputs": [],
   "source": [
    "df_sms.head()"
   ]
  },
  {
   "cell_type": "code",
   "execution_count": null,
   "metadata": {
    "id": "JZI95a_pRG05"
   },
   "outputs": [],
   "source": [
    "x = df_sms['message_clean']\n",
    "y = df_sms['label']"
   ]
  },
  {
   "cell_type": "code",
   "execution_count": null,
   "metadata": {
    "id": "25VCRLw_RG05"
   },
   "outputs": [],
   "source": [
    "from sklearn.model_selection import train_test_split\n",
    "\n",
    "x_train, x_test, y_train, y_test = train_test_split(x, y)"
   ]
  },
  {
   "cell_type": "markdown",
   "metadata": {
    "id": "ajMyW7HiRG06"
   },
   "source": [
    "### Vectorization"
   ]
  },
  {
   "cell_type": "markdown",
   "metadata": {
    "id": "19beS01iRG06"
   },
   "source": [
    "* Now, we need to convert each message into a vector for utilizing machine learning models.\n",
    "* Here, we will use the TF-IDF vectorizer with **SciKit Learn** package."
   ]
  },
  {
   "cell_type": "code",
   "execution_count": null,
   "metadata": {
    "id": "wF2ZJSlTRG06"
   },
   "outputs": [],
   "source": [
    "from sklearn.feature_extraction.text import TfidfVectorizer"
   ]
  },
  {
   "cell_type": "code",
   "execution_count": null,
   "metadata": {
    "id": "EXMBxbuxRG06"
   },
   "outputs": [],
   "source": [
    "vectorizer = TfidfVectorizer()\n",
    "x_train_vec = vectorizer.fit_transform(x_train)\n",
    "x_test_vec = vectorizer.transform(x_test)"
   ]
  },
  {
   "cell_type": "markdown",
   "metadata": {
    "id": "6pATzGSFRG06"
   },
   "source": [
    "### Model selection and test the classifier"
   ]
  },
  {
   "cell_type": "code",
   "execution_count": null,
   "metadata": {
    "colab": {
     "base_uri": "https://localhost:8080/"
    },
    "executionInfo": {
     "elapsed": 1387,
     "status": "ok",
     "timestamp": 1623170946772,
     "user": {
      "displayName": "Lee Kyu-Min",
      "photoUrl": "",
      "userId": "04534845204524302942"
     },
     "user_tz": -540
    },
    "id": "e4WCQePHRG07",
    "outputId": "83701836-b15c-4214-f35d-5d53dc60e159"
   },
   "outputs": [],
   "source": [
    "from sklearn import metrics\n",
    "from sklearn.ensemble import RandomForestClassifier\n",
    "\n",
    "rfc = RandomForestClassifier()\n",
    "rfc.fit(x_train_vec, y_train)\n",
    "pred_rfc = rfc.predict(x_test_vec)\n",
    "\n",
    "metrics.accuracy_score(y_test, pred_rfc)"
   ]
  },
  {
   "cell_type": "markdown",
   "metadata": {
    "id": "ZxcqDeQoiX1r"
   },
   "source": [
    "## Building a spam filtering system with RNN"
   ]
  },
  {
   "cell_type": "code",
   "execution_count": null,
   "metadata": {
    "id": "ik0zT_VRU5kM"
   },
   "outputs": [],
   "source": [
    "df_sms = pd.read_csv('./SMS_Spam.tsv', sep='\\t')"
   ]
  },
  {
   "cell_type": "markdown",
   "metadata": {
    "id": "O8gQK1Fkiiju"
   },
   "source": [
    "* Replace the label \"ham\" and \"spam\" as \"0\" and \"1\"."
   ]
  },
  {
   "cell_type": "code",
   "execution_count": null,
   "metadata": {
    "id": "C7PsHfpyg0pp"
   },
   "outputs": [],
   "source": [
    "df_sms['label'] = df_sms['label'].replace(['ham', 'spam'], [0, 1])"
   ]
  },
  {
   "cell_type": "code",
   "execution_count": null,
   "metadata": {
    "colab": {
     "base_uri": "https://localhost:8080/",
     "height": 204
    },
    "executionInfo": {
     "elapsed": 293,
     "status": "ok",
     "timestamp": 1623171198278,
     "user": {
      "displayName": "Lee Kyu-Min",
      "photoUrl": "",
      "userId": "04534845204524302942"
     },
     "user_tz": -540
    },
    "id": "bLnJzhrUg4La",
    "outputId": "76e796bc-9e3e-45d7-844e-670a6cd17225"
   },
   "outputs": [],
   "source": [
    "df_sms.head()"
   ]
  },
  {
   "cell_type": "markdown",
   "metadata": {
    "id": "tPxWmJLNi07x"
   },
   "source": [
    "* Set a feature and target for classification."
   ]
  },
  {
   "cell_type": "code",
   "execution_count": null,
   "metadata": {
    "id": "JJqZmxZFg6jX"
   },
   "outputs": [],
   "source": [
    "x = df_sms['message']\n",
    "y = df_sms['label']"
   ]
  },
  {
   "cell_type": "markdown",
   "metadata": {
    "id": "DnTLX-HGi95C"
   },
   "source": [
    "* Here, we use the tokenization with Keras."
   ]
  },
  {
   "cell_type": "code",
   "execution_count": null,
   "metadata": {
    "id": "bUAxkeYVg9Bc"
   },
   "outputs": [],
   "source": [
    "from tensorflow.keras.preprocessing.text import Tokenizer\n",
    "from tensorflow.keras.preprocessing.sequence import pad_sequences"
   ]
  },
  {
   "cell_type": "code",
   "execution_count": null,
   "metadata": {
    "id": "ibKJqcIfg_a4"
   },
   "outputs": [],
   "source": [
    "tokenizer = Tokenizer()\n",
    "tokenizer.fit_on_texts(x)\n",
    "sequences = tokenizer.texts_to_sequences(x)"
   ]
  },
  {
   "cell_type": "code",
   "execution_count": null,
   "metadata": {
    "colab": {
     "base_uri": "https://localhost:8080/"
    },
    "executionInfo": {
     "elapsed": 502,
     "status": "ok",
     "timestamp": 1623170999746,
     "user": {
      "displayName": "Lee Kyu-Min",
      "photoUrl": "",
      "userId": "04534845204524302942"
     },
     "user_tz": -540
    },
    "id": "NzG8JuHuhBbc",
    "outputId": "1a3d3720-28a6-4b1f-9913-1f657e8fecab"
   },
   "outputs": [],
   "source": [
    "sequences"
   ]
  },
  {
   "cell_type": "markdown",
   "metadata": {
    "id": "aTIYA3YnjEVS"
   },
   "source": [
    "* Now, we have to assign the number of training and test data for sequences."
   ]
  },
  {
   "cell_type": "code",
   "execution_count": null,
   "metadata": {
    "id": "3-JAniVIhFLf"
   },
   "outputs": [],
   "source": [
    "n_train = int(len(sequences)*0.8)\n",
    "n_test = int(len(sequences) - n_train)"
   ]
  },
  {
   "cell_type": "code",
   "execution_count": null,
   "metadata": {
    "id": "R4EMt_LIhLXV"
   },
   "outputs": [],
   "source": [
    "x_data = sequences\n",
    "max_len = max(len(i) for i in x_data)"
   ]
  },
  {
   "cell_type": "code",
   "execution_count": null,
   "metadata": {
    "id": "UwVW6KrehNk_"
   },
   "outputs": [],
   "source": [
    "data = pad_sequences(x_data, maxlen=max_len)"
   ]
  },
  {
   "cell_type": "code",
   "execution_count": null,
   "metadata": {
    "colab": {
     "base_uri": "https://localhost:8080/"
    },
    "executionInfo": {
     "elapsed": 70,
     "status": "ok",
     "timestamp": 1623170999748,
     "user": {
      "displayName": "Lee Kyu-Min",
      "photoUrl": "",
      "userId": "04534845204524302942"
     },
     "user_tz": -540
    },
    "id": "zURtWPZHhPDp",
    "outputId": "14cc7e5c-d665-449f-9d61-ef8ab34b528f"
   },
   "outputs": [],
   "source": [
    "data[0]"
   ]
  },
  {
   "cell_type": "markdown",
   "metadata": {
    "id": "mC8VcoKTjH5d"
   },
   "source": [
    "* Split train and test sets."
   ]
  },
  {
   "cell_type": "code",
   "execution_count": null,
   "metadata": {
    "id": "HWrtdz7KhQcK"
   },
   "outputs": [],
   "source": [
    "x_train = data[:n_train]\n",
    "y_train = y[:n_train]\n",
    "x_test = data[n_train:]\n",
    "y_test = y[n_train:]"
   ]
  },
  {
   "cell_type": "markdown",
   "metadata": {
    "id": "Yac8Ol8pjKvi"
   },
   "source": [
    "* Now, let's construct simple RNN model to classification."
   ]
  },
  {
   "cell_type": "code",
   "execution_count": null,
   "metadata": {
    "id": "JMlWhqFkhSfl"
   },
   "outputs": [],
   "source": [
    "from tensorflow.keras.layers import SimpleRNN, Embedding, Dense\n",
    "from tensorflow.keras.models import Sequential"
   ]
  },
  {
   "cell_type": "code",
   "execution_count": null,
   "metadata": {
    "colab": {
     "base_uri": "https://localhost:8080/"
    },
    "executionInfo": {
     "elapsed": 21719,
     "status": "ok",
     "timestamp": 1623171021750,
     "user": {
      "displayName": "Lee Kyu-Min",
      "photoUrl": "",
      "userId": "04534845204524302942"
     },
     "user_tz": -540
    },
    "id": "67WONu8ahUWP",
    "outputId": "c22f5c0f-f712-4485-a50e-a6d6725e7052"
   },
   "outputs": [],
   "source": [
    "word_size = len(tokenizer.word_index) + 1\n",
    "\n",
    "model = Sequential()\n",
    "model.add(Embedding(word_size, 32)) \n",
    "model.add(SimpleRNN(32)) \n",
    "model.add(Dense(1, activation='sigmoid'))\n",
    "\n",
    "model.compile(optimizer='adam', loss='binary_crossentropy', metrics=['acc'])\n",
    "history = model.fit(x_train, y_train, epochs=4, batch_size=64, validation_split=0.2)"
   ]
  },
  {
   "cell_type": "markdown",
   "metadata": {
    "id": "pt3W672ZjR_l"
   },
   "source": [
    "* How much is the model accurate?"
   ]
  },
  {
   "cell_type": "code",
   "execution_count": null,
   "metadata": {
    "colab": {
     "base_uri": "https://localhost:8080/"
    },
    "executionInfo": {
     "elapsed": 389,
     "status": "ok",
     "timestamp": 1623171022134,
     "user": {
      "displayName": "Lee Kyu-Min",
      "photoUrl": "",
      "userId": "04534845204524302942"
     },
     "user_tz": -540
    },
    "id": "mODB55WXhXOz",
    "outputId": "1d5a4605-5a59-4fc0-c522-19a3c78fb88e"
   },
   "outputs": [],
   "source": [
    "predictions = model.predict_classes(x_test)\n",
    "print(metrics.accuracy_score(y_test,predictions))"
   ]
  },
  {
   "cell_type": "code",
   "execution_count": null,
   "metadata": {
    "id": "14hvxnfFhjSE"
   },
   "outputs": [],
   "source": []
  }
 ],
 "metadata": {
  "colab": {
   "collapsed_sections": [],
   "name": "실습1_스팸필터링_시스템.ipynb",
   "provenance": []
  },
  "kernelspec": {
   "display_name": "Python 3",
   "language": "python",
   "name": "python3"
  },
  "language_info": {
   "codemirror_mode": {
    "name": "ipython",
    "version": 3
   },
   "file_extension": ".py",
   "mimetype": "text/x-python",
   "name": "python",
   "nbconvert_exporter": "python",
   "pygments_lexer": "ipython3",
   "version": "3.7.9"
  }
 },
 "nbformat": 4,
 "nbformat_minor": 1
}
